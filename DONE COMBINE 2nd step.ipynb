{
 "cells": [
  {
   "cell_type": "markdown",
   "metadata": {},
   "source": [
    "IMPORTING THE PACKAGE"
   ]
  },
  {
   "cell_type": "code",
   "execution_count": 1,
   "metadata": {},
   "outputs": [],
   "source": [
    "import numpy as np\n",
    "import pandas as pd"
   ]
  },
  {
   "cell_type": "markdown",
   "metadata": {},
   "source": [
    "READING THE FILE WITH DRONE DATA OF THE STUDY REGION"
   ]
  },
  {
   "cell_type": "code",
   "execution_count": 15,
   "metadata": {},
   "outputs": [],
   "source": [
    "d1=pd.read_csv('usv_correct_fulldata.csv') #LAND + NOT REFRACTION CORRECTED WATER SURFACE\n",
    "d2=pd.read_csv('usv_correct_waterdata.csv') #REFRACTION CORRECTED WATER SURFACE\n"
   ]
  },
  {
   "cell_type": "code",
   "execution_count": 16,
   "metadata": {},
   "outputs": [
    {
     "data": {
      "text/html": [
       "<div>\n",
       "<style scoped>\n",
       "    .dataframe tbody tr th:only-of-type {\n",
       "        vertical-align: middle;\n",
       "    }\n",
       "\n",
       "    .dataframe tbody tr th {\n",
       "        vertical-align: top;\n",
       "    }\n",
       "\n",
       "    .dataframe thead th {\n",
       "        text-align: right;\n",
       "    }\n",
       "</style>\n",
       "<table border=\"1\" class=\"dataframe\">\n",
       "  <thead>\n",
       "    <tr style=\"text-align: right;\">\n",
       "      <th></th>\n",
       "      <th>E</th>\n",
       "      <th>N</th>\n",
       "      <th>CD</th>\n",
       "    </tr>\n",
       "  </thead>\n",
       "  <tbody>\n",
       "    <tr>\n",
       "      <th>0</th>\n",
       "      <td>695118.52</td>\n",
       "      <td>5537393.84</td>\n",
       "      <td>-10.03</td>\n",
       "    </tr>\n",
       "    <tr>\n",
       "      <th>1</th>\n",
       "      <td>695018.52</td>\n",
       "      <td>5537412.84</td>\n",
       "      <td>4.26</td>\n",
       "    </tr>\n",
       "    <tr>\n",
       "      <th>2</th>\n",
       "      <td>695019.52</td>\n",
       "      <td>5537412.84</td>\n",
       "      <td>4.10</td>\n",
       "    </tr>\n",
       "    <tr>\n",
       "      <th>3</th>\n",
       "      <td>695020.52</td>\n",
       "      <td>5537412.84</td>\n",
       "      <td>3.76</td>\n",
       "    </tr>\n",
       "    <tr>\n",
       "      <th>4</th>\n",
       "      <td>695021.52</td>\n",
       "      <td>5537412.84</td>\n",
       "      <td>3.67</td>\n",
       "    </tr>\n",
       "    <tr>\n",
       "      <th>...</th>\n",
       "      <td>...</td>\n",
       "      <td>...</td>\n",
       "      <td>...</td>\n",
       "    </tr>\n",
       "    <tr>\n",
       "      <th>109919</th>\n",
       "      <td>695472.52</td>\n",
       "      <td>5537693.84</td>\n",
       "      <td>8.28</td>\n",
       "    </tr>\n",
       "    <tr>\n",
       "      <th>109920</th>\n",
       "      <td>695473.52</td>\n",
       "      <td>5537693.84</td>\n",
       "      <td>8.31</td>\n",
       "    </tr>\n",
       "    <tr>\n",
       "      <th>109921</th>\n",
       "      <td>695474.52</td>\n",
       "      <td>5537693.84</td>\n",
       "      <td>8.30</td>\n",
       "    </tr>\n",
       "    <tr>\n",
       "      <th>109922</th>\n",
       "      <td>695475.52</td>\n",
       "      <td>5537693.84</td>\n",
       "      <td>8.28</td>\n",
       "    </tr>\n",
       "    <tr>\n",
       "      <th>109923</th>\n",
       "      <td>695476.52</td>\n",
       "      <td>5537693.84</td>\n",
       "      <td>8.29</td>\n",
       "    </tr>\n",
       "  </tbody>\n",
       "</table>\n",
       "<p>109924 rows × 3 columns</p>\n",
       "</div>"
      ],
      "text/plain": [
       "                E           N     CD\n",
       "0       695118.52  5537393.84 -10.03\n",
       "1       695018.52  5537412.84   4.26\n",
       "2       695019.52  5537412.84   4.10\n",
       "3       695020.52  5537412.84   3.76\n",
       "4       695021.52  5537412.84   3.67\n",
       "...           ...         ...    ...\n",
       "109919  695472.52  5537693.84   8.28\n",
       "109920  695473.52  5537693.84   8.31\n",
       "109921  695474.52  5537693.84   8.30\n",
       "109922  695475.52  5537693.84   8.28\n",
       "109923  695476.52  5537693.84   8.29\n",
       "\n",
       "[109924 rows x 3 columns]"
      ]
     },
     "execution_count": 16,
     "metadata": {},
     "output_type": "execute_result"
    }
   ],
   "source": [
    "d1"
   ]
  },
  {
   "cell_type": "markdown",
   "metadata": {},
   "source": [
    "CREATION OF A DATASET TO ELIMINATE THE'NOT REFRACTION CORRECTED' WATER SURFACE FROM d1"
   ]
  },
  {
   "cell_type": "code",
   "execution_count": 17,
   "metadata": {},
   "outputs": [
    {
     "name": "stdout",
     "output_type": "stream",
     "text": [
      "               E           N  CD_x  CD_y\n",
      "0      695049.52  5537418.84  1.01  0.93\n",
      "1      695050.52  5537418.84  0.97  0.90\n",
      "2      695051.52  5537418.84  0.95  0.85\n",
      "3      695052.52  5537418.84  0.92  0.80\n",
      "4      695049.52  5537419.84  1.03  0.95\n",
      "...          ...         ...   ...   ...\n",
      "53562  695400.52  5537618.84  0.81  0.67\n",
      "53563  695401.52  5537618.84  0.81  0.67\n",
      "53564  695402.52  5537618.84  0.81  0.67\n",
      "53565  695403.52  5537618.84  0.80  0.66\n",
      "53566  695404.52  5537618.84  0.81  0.67\n",
      "\n",
      "[53567 rows x 4 columns]\n"
     ]
    }
   ],
   "source": [
    "#the logic is explained using venn diagam in methodolofy\n",
    "df=pd.merge(d1,d2,how='inner',on=['E','N'])\n",
    "print(df)"
   ]
  },
  {
   "cell_type": "markdown",
   "metadata": {},
   "source": [
    "DROPING THE 'CD_x' of d1 (NOT REFRACTION CORRECTED SURFACE) AND CREATING A DATASET WITH REFRACTION CORRECTED SURFACE"
   ]
  },
  {
   "cell_type": "code",
   "execution_count": 18,
   "metadata": {},
   "outputs": [
    {
     "name": "stdout",
     "output_type": "stream",
     "text": [
      "               E           N    CD\n",
      "0      695049.52  5537418.84  0.93\n",
      "1      695050.52  5537418.84  0.90\n",
      "2      695051.52  5537418.84  0.85\n",
      "3      695052.52  5537418.84  0.80\n",
      "4      695049.52  5537419.84  0.95\n",
      "...          ...         ...   ...\n",
      "53562  695400.52  5537618.84  0.67\n",
      "53563  695401.52  5537618.84  0.67\n",
      "53564  695402.52  5537618.84  0.67\n",
      "53565  695403.52  5537618.84  0.66\n",
      "53566  695404.52  5537618.84  0.67\n",
      "\n",
      "[53567 rows x 3 columns]\n"
     ]
    }
   ],
   "source": [
    "df=df.drop(columns='CD_x')\n",
    "df=df.rename(columns={'CD_y':'CD'})\n",
    "print(df)"
   ]
  },
  {
   "cell_type": "markdown",
   "metadata": {},
   "source": [
    "OVERLAPPING BOTH DATASET AND MAKING ONE BIG DATASET"
   ]
  },
  {
   "cell_type": "code",
   "execution_count": 20,
   "metadata": {},
   "outputs": [
    {
     "name": "stdout",
     "output_type": "stream",
     "text": [
      "                E           N     CD\n",
      "0       695118.52  5537393.84 -10.03\n",
      "1       695018.52  5537412.84   4.26\n",
      "2       695019.52  5537412.84   4.10\n",
      "3       695020.52  5537412.84   3.76\n",
      "4       695021.52  5537412.84   3.67\n",
      "...           ...         ...    ...\n",
      "163486  695400.52  5537618.84   0.67\n",
      "163487  695401.52  5537618.84   0.67\n",
      "163488  695402.52  5537618.84   0.67\n",
      "163489  695403.52  5537618.84   0.66\n",
      "163490  695404.52  5537618.84   0.67\n",
      "\n",
      "[163491 rows x 3 columns]\n"
     ]
    }
   ],
   "source": [
    "combined_uav=pd.concat([d1,df],ignore_index=True)\n",
    "print(combined_uav)"
   ]
  },
  {
   "cell_type": "markdown",
   "metadata": {},
   "source": [
    "ELIMINATING THE DUPLICATE DATASET OF THE d1 and KEEPING THE DATASET FROM d3"
   ]
  },
  {
   "cell_type": "code",
   "execution_count": 22,
   "metadata": {},
   "outputs": [
    {
     "name": "stdout",
     "output_type": "stream",
     "text": [
      "                E           N     CD\n",
      "0       695118.52  5537393.84 -10.03\n",
      "1       695018.52  5537412.84   4.26\n",
      "2       695019.52  5537412.84   4.10\n",
      "3       695020.52  5537412.84   3.76\n",
      "4       695021.52  5537412.84   3.67\n",
      "...           ...         ...    ...\n",
      "163486  695400.52  5537618.84   0.67\n",
      "163487  695401.52  5537618.84   0.67\n",
      "163488  695402.52  5537618.84   0.67\n",
      "163489  695403.52  5537618.84   0.66\n",
      "163490  695404.52  5537618.84   0.67\n",
      "\n",
      "[109924 rows x 3 columns]\n"
     ]
    }
   ],
   "source": [
    "combined_uav=combined_uav.drop_duplicates(keep='last',subset=['E','N'])\n",
    "print(combined_uav)"
   ]
  },
  {
   "cell_type": "code",
   "execution_count": 23,
   "metadata": {},
   "outputs": [
    {
     "name": "stdout",
     "output_type": "stream",
     "text": [
      "         index          E           N     CD\n",
      "0            0  695118.52  5537393.84 -10.03\n",
      "1            1  695018.52  5537412.84   4.26\n",
      "2            2  695019.52  5537412.84   4.10\n",
      "3            3  695020.52  5537412.84   3.76\n",
      "4            4  695021.52  5537412.84   3.67\n",
      "...        ...        ...         ...    ...\n",
      "109919  163486  695400.52  5537618.84   0.67\n",
      "109920  163487  695401.52  5537618.84   0.67\n",
      "109921  163488  695402.52  5537618.84   0.67\n",
      "109922  163489  695403.52  5537618.84   0.66\n",
      "109923  163490  695404.52  5537618.84   0.67\n",
      "\n",
      "[109924 rows x 4 columns]\n"
     ]
    }
   ],
   "source": [
    "combined_uav=combined_uav.reset_index()\n",
    "print(combined_uav)"
   ]
  },
  {
   "cell_type": "code",
   "execution_count": 24,
   "metadata": {},
   "outputs": [
    {
     "name": "stdout",
     "output_type": "stream",
     "text": [
      "                E           N     CD\n",
      "0       695118.52  5537393.84 -10.03\n",
      "1       695018.52  5537412.84   4.26\n",
      "2       695019.52  5537412.84   4.10\n",
      "3       695020.52  5537412.84   3.76\n",
      "4       695021.52  5537412.84   3.67\n",
      "...           ...         ...    ...\n",
      "109919  695400.52  5537618.84   0.67\n",
      "109920  695401.52  5537618.84   0.67\n",
      "109921  695402.52  5537618.84   0.67\n",
      "109922  695403.52  5537618.84   0.66\n",
      "109923  695404.52  5537618.84   0.67\n",
      "\n",
      "[109924 rows x 3 columns]\n"
     ]
    }
   ],
   "source": [
    "combined_uav=combined_uav.drop(columns='index')\n",
    "print(combined_uav)\n",
    "#when the combining is done a logical check is to check whethe the d3 has the \n",
    "# same numbe of rows as d1 after combining with d3 and eliminating the duplicates frm d1"
   ]
  },
  {
   "cell_type": "markdown",
   "metadata": {},
   "source": [
    "SAVING THE COMBINED DATASET INTO A FILE AS .txt and.csv"
   ]
  },
  {
   "cell_type": "code",
   "execution_count": 25,
   "metadata": {},
   "outputs": [],
   "source": [
    "combined_uav.to_csv('final_uav_combined.csv',index=False)\n",
    "combined_uav.to_csv('final_uav_combined.txt',index=False)"
   ]
  }
 ],
 "metadata": {
  "interpreter": {
   "hash": "62fe7956c16287f820694899119c04bfe79819e9a240122b4bcfa1c712f9c34a"
  },
  "kernelspec": {
   "display_name": "Python 3.9.12 ('base')",
   "language": "python",
   "name": "python3"
  },
  "language_info": {
   "codemirror_mode": {
    "name": "ipython",
    "version": 3
   },
   "file_extension": ".py",
   "mimetype": "text/x-python",
   "name": "python",
   "nbconvert_exporter": "python",
   "pygments_lexer": "ipython3",
   "version": "3.9.12"
  },
  "orig_nbformat": 4
 },
 "nbformat": 4,
 "nbformat_minor": 2
}
