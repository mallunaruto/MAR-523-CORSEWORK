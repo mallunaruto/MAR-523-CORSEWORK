{
 "cells": [
  {
   "cell_type": "markdown",
   "metadata": {},
   "source": [
    "IMPORTING PACKAGES"
   ]
  },
  {
   "cell_type": "code",
   "execution_count": 6,
   "metadata": {},
   "outputs": [],
   "source": [
    "import pandas as pd\n"
   ]
  },
  {
   "cell_type": "markdown",
   "metadata": {},
   "source": [
    "READING THE XYZ FILE DIRECTLY FROM THE FOLDER AND PRINTING IT "
   ]
  },
  {
   "cell_type": "code",
   "execution_count": 7,
   "metadata": {},
   "outputs": [
    {
     "data": {
      "text/html": [
       "<div>\n",
       "<style scoped>\n",
       "    .dataframe tbody tr th:only-of-type {\n",
       "        vertical-align: middle;\n",
       "    }\n",
       "\n",
       "    .dataframe tbody tr th {\n",
       "        vertical-align: top;\n",
       "    }\n",
       "\n",
       "    .dataframe thead th {\n",
       "        text-align: right;\n",
       "    }\n",
       "</style>\n",
       "<table border=\"1\" class=\"dataframe\">\n",
       "  <thead>\n",
       "    <tr style=\"text-align: right;\">\n",
       "      <th></th>\n",
       "      <th>0</th>\n",
       "      <th>1</th>\n",
       "      <th>2</th>\n",
       "    </tr>\n",
       "  </thead>\n",
       "  <tbody>\n",
       "    <tr>\n",
       "      <th>0</th>\n",
       "      <td>695118.5</td>\n",
       "      <td>5537394.5</td>\n",
       "      <td>40.54</td>\n",
       "    </tr>\n",
       "    <tr>\n",
       "      <th>1</th>\n",
       "      <td>695409.5</td>\n",
       "      <td>5537397.5</td>\n",
       "      <td>-57.41</td>\n",
       "    </tr>\n",
       "    <tr>\n",
       "      <th>2</th>\n",
       "      <td>695410.5</td>\n",
       "      <td>5537397.5</td>\n",
       "      <td>-56.99</td>\n",
       "    </tr>\n",
       "    <tr>\n",
       "      <th>3</th>\n",
       "      <td>695408.5</td>\n",
       "      <td>5537398.5</td>\n",
       "      <td>-58.15</td>\n",
       "    </tr>\n",
       "    <tr>\n",
       "      <th>4</th>\n",
       "      <td>695409.5</td>\n",
       "      <td>5537398.5</td>\n",
       "      <td>-57.60</td>\n",
       "    </tr>\n",
       "  </tbody>\n",
       "</table>\n",
       "</div>"
      ],
      "text/plain": [
       "          0          1      2\n",
       "0  695118.5  5537394.5  40.54\n",
       "1  695409.5  5537397.5 -57.41\n",
       "2  695410.5  5537397.5 -56.99\n",
       "3  695408.5  5537398.5 -58.15\n",
       "4  695409.5  5537398.5 -57.60"
      ]
     },
     "execution_count": 7,
     "metadata": {},
     "output_type": "execute_result"
    }
   ],
   "source": [
    "d1=pd.read_csv('before ref_full_surface.xyz',delimiter=',',header=None)\n",
    "d1.head()"
   ]
  },
  {
   "cell_type": "markdown",
   "metadata": {},
   "source": [
    "ELIMINATING NOISE DATA FROM THE DATA BY MARKING THE NOISE AS 'None'"
   ]
  },
  {
   "cell_type": "code",
   "execution_count": 8,
   "metadata": {},
   "outputs": [],
   "source": [
    "d1[d1<0]=None"
   ]
  },
  {
   "cell_type": "markdown",
   "metadata": {},
   "source": [
    "DROPING THE NONE ROWS"
   ]
  },
  {
   "cell_type": "code",
   "execution_count": 9,
   "metadata": {},
   "outputs": [],
   "source": [
    "d1=d1.dropna()"
   ]
  },
  {
   "cell_type": "markdown",
   "metadata": {},
   "source": [
    "CONVERTING THE ELIPSOIDAL HEIGHT TO CHART DATUM"
   ]
  },
  {
   "cell_type": "code",
   "execution_count": 10,
   "metadata": {},
   "outputs": [
    {
     "data": {
      "text/html": [
       "<div>\n",
       "<style scoped>\n",
       "    .dataframe tbody tr th:only-of-type {\n",
       "        vertical-align: middle;\n",
       "    }\n",
       "\n",
       "    .dataframe tbody tr th {\n",
       "        vertical-align: top;\n",
       "    }\n",
       "\n",
       "    .dataframe thead th {\n",
       "        text-align: right;\n",
       "    }\n",
       "</style>\n",
       "<table border=\"1\" class=\"dataframe\">\n",
       "  <thead>\n",
       "    <tr style=\"text-align: right;\">\n",
       "      <th></th>\n",
       "      <th>0</th>\n",
       "      <th>1</th>\n",
       "      <th>2</th>\n",
       "      <th>CD</th>\n",
       "    </tr>\n",
       "  </thead>\n",
       "  <tbody>\n",
       "    <tr>\n",
       "      <th>0</th>\n",
       "      <td>695118.5</td>\n",
       "      <td>5537394.5</td>\n",
       "      <td>40.54</td>\n",
       "      <td>-10.03</td>\n",
       "    </tr>\n",
       "    <tr>\n",
       "      <th>6</th>\n",
       "      <td>695018.5</td>\n",
       "      <td>5537413.5</td>\n",
       "      <td>54.83</td>\n",
       "      <td>4.26</td>\n",
       "    </tr>\n",
       "    <tr>\n",
       "      <th>7</th>\n",
       "      <td>695019.5</td>\n",
       "      <td>5537413.5</td>\n",
       "      <td>54.67</td>\n",
       "      <td>4.10</td>\n",
       "    </tr>\n",
       "    <tr>\n",
       "      <th>8</th>\n",
       "      <td>695020.5</td>\n",
       "      <td>5537413.5</td>\n",
       "      <td>54.33</td>\n",
       "      <td>3.76</td>\n",
       "    </tr>\n",
       "    <tr>\n",
       "      <th>9</th>\n",
       "      <td>695021.5</td>\n",
       "      <td>5537413.5</td>\n",
       "      <td>54.24</td>\n",
       "      <td>3.67</td>\n",
       "    </tr>\n",
       "  </tbody>\n",
       "</table>\n",
       "</div>"
      ],
      "text/plain": [
       "          0          1      2     CD\n",
       "0  695118.5  5537394.5  40.54 -10.03\n",
       "6  695018.5  5537413.5  54.83   4.26\n",
       "7  695019.5  5537413.5  54.67   4.10\n",
       "8  695020.5  5537413.5  54.33   3.76\n",
       "9  695021.5  5537413.5  54.24   3.67"
      ]
     },
     "execution_count": 10,
     "metadata": {},
     "output_type": "execute_result"
    }
   ],
   "source": [
    "d1['CD']=d1[2]-53.48+2.91             # elipsoidal height to odn = -53.48\n",
    "                                       # ODN TO CD =+2.91\n",
    "d1.head()"
   ]
  },
  {
   "cell_type": "markdown",
   "metadata": {},
   "source": [
    "APPLYING THE SYSTAMATIC CORRECTION TO THE EASTING AND NORTHING IN TERMS OF ETRS89"
   ]
  },
  {
   "cell_type": "code",
   "execution_count": 12,
   "metadata": {},
   "outputs": [
    {
     "data": {
      "text/html": [
       "<div>\n",
       "<style scoped>\n",
       "    .dataframe tbody tr th:only-of-type {\n",
       "        vertical-align: middle;\n",
       "    }\n",
       "\n",
       "    .dataframe tbody tr th {\n",
       "        vertical-align: top;\n",
       "    }\n",
       "\n",
       "    .dataframe thead th {\n",
       "        text-align: right;\n",
       "    }\n",
       "</style>\n",
       "<table border=\"1\" class=\"dataframe\">\n",
       "  <thead>\n",
       "    <tr style=\"text-align: right;\">\n",
       "      <th></th>\n",
       "      <th>CD</th>\n",
       "      <th>E</th>\n",
       "      <th>N</th>\n",
       "    </tr>\n",
       "  </thead>\n",
       "  <tbody>\n",
       "    <tr>\n",
       "      <th>0</th>\n",
       "      <td>-10.03</td>\n",
       "      <td>695118.52</td>\n",
       "      <td>5537393.84</td>\n",
       "    </tr>\n",
       "    <tr>\n",
       "      <th>6</th>\n",
       "      <td>4.26</td>\n",
       "      <td>695018.52</td>\n",
       "      <td>5537412.84</td>\n",
       "    </tr>\n",
       "    <tr>\n",
       "      <th>7</th>\n",
       "      <td>4.10</td>\n",
       "      <td>695019.52</td>\n",
       "      <td>5537412.84</td>\n",
       "    </tr>\n",
       "    <tr>\n",
       "      <th>8</th>\n",
       "      <td>3.76</td>\n",
       "      <td>695020.52</td>\n",
       "      <td>5537412.84</td>\n",
       "    </tr>\n",
       "    <tr>\n",
       "      <th>9</th>\n",
       "      <td>3.67</td>\n",
       "      <td>695021.52</td>\n",
       "      <td>5537412.84</td>\n",
       "    </tr>\n",
       "  </tbody>\n",
       "</table>\n",
       "</div>"
      ],
      "text/plain": [
       "      CD          E           N\n",
       "0 -10.03  695118.52  5537393.84\n",
       "6   4.26  695018.52  5537412.84\n",
       "7   4.10  695019.52  5537412.84\n",
       "8   3.76  695020.52  5537412.84\n",
       "9   3.67  695021.52  5537412.84"
      ]
     },
     "execution_count": 12,
     "metadata": {},
     "output_type": "execute_result"
    }
   ],
   "source": [
    "d1['E']=d1[0]+0.02          # +0.02 CORRECTION\n",
    "d1['N']=d1[1]-0.66          # -0.660 CORRECTION\n",
    "d1=d1.drop(columns=[0,1,2])     #dropping the ocessed columns\n",
    "d1.head()"
   ]
  },
  {
   "cell_type": "markdown",
   "metadata": {},
   "source": [
    "REARRANGING THE COLUMNS FOR FORMATTING PURPOSE"
   ]
  },
  {
   "cell_type": "code",
   "execution_count": 14,
   "metadata": {},
   "outputs": [
    {
     "data": {
      "text/html": [
       "<div>\n",
       "<style scoped>\n",
       "    .dataframe tbody tr th:only-of-type {\n",
       "        vertical-align: middle;\n",
       "    }\n",
       "\n",
       "    .dataframe tbody tr th {\n",
       "        vertical-align: top;\n",
       "    }\n",
       "\n",
       "    .dataframe thead th {\n",
       "        text-align: right;\n",
       "    }\n",
       "</style>\n",
       "<table border=\"1\" class=\"dataframe\">\n",
       "  <thead>\n",
       "    <tr style=\"text-align: right;\">\n",
       "      <th></th>\n",
       "      <th>E</th>\n",
       "      <th>N</th>\n",
       "      <th>CD</th>\n",
       "    </tr>\n",
       "  </thead>\n",
       "  <tbody>\n",
       "    <tr>\n",
       "      <th>0</th>\n",
       "      <td>695118.52</td>\n",
       "      <td>5537393.84</td>\n",
       "      <td>-10.03</td>\n",
       "    </tr>\n",
       "    <tr>\n",
       "      <th>6</th>\n",
       "      <td>695018.52</td>\n",
       "      <td>5537412.84</td>\n",
       "      <td>4.26</td>\n",
       "    </tr>\n",
       "    <tr>\n",
       "      <th>7</th>\n",
       "      <td>695019.52</td>\n",
       "      <td>5537412.84</td>\n",
       "      <td>4.10</td>\n",
       "    </tr>\n",
       "    <tr>\n",
       "      <th>8</th>\n",
       "      <td>695020.52</td>\n",
       "      <td>5537412.84</td>\n",
       "      <td>3.76</td>\n",
       "    </tr>\n",
       "    <tr>\n",
       "      <th>9</th>\n",
       "      <td>695021.52</td>\n",
       "      <td>5537412.84</td>\n",
       "      <td>3.67</td>\n",
       "    </tr>\n",
       "  </tbody>\n",
       "</table>\n",
       "</div>"
      ],
      "text/plain": [
       "           E           N     CD\n",
       "0  695118.52  5537393.84 -10.03\n",
       "6  695018.52  5537412.84   4.26\n",
       "7  695019.52  5537412.84   4.10\n",
       "8  695020.52  5537412.84   3.76\n",
       "9  695021.52  5537412.84   3.67"
      ]
     },
     "execution_count": 14,
     "metadata": {},
     "output_type": "execute_result"
    }
   ],
   "source": [
    "d1= d1[['E','N','CD']] ##the way we rearranged it\n",
    "d1.head()"
   ]
  },
  {
   "cell_type": "markdown",
   "metadata": {},
   "source": [
    "CONVERTING THE FILE TO .csv AND .txt AND SAVING IN THE FOLDER"
   ]
  },
  {
   "cell_type": "code",
   "execution_count": 17,
   "metadata": {},
   "outputs": [],
   "source": [
    "d1.to_csv('usv_correct_fulldata.csv',index=False)\n",
    "d1.to_csv('usv_correct_fulldata.txt',index=False)"
   ]
  },
  {
   "cell_type": "markdown",
   "metadata": {},
   "source": [
    "READING THE FILE HAVING THE REFRACTION CORRECTED WATER DURFACE"
   ]
  },
  {
   "cell_type": "code",
   "execution_count": 21,
   "metadata": {},
   "outputs": [],
   "source": [
    "d2=pd.read_csv('water surface ref corrected.xyz',delimiter=',',header=None)"
   ]
  },
  {
   "cell_type": "code",
   "execution_count": 22,
   "metadata": {},
   "outputs": [
    {
     "data": {
      "text/html": [
       "<div>\n",
       "<style scoped>\n",
       "    .dataframe tbody tr th:only-of-type {\n",
       "        vertical-align: middle;\n",
       "    }\n",
       "\n",
       "    .dataframe tbody tr th {\n",
       "        vertical-align: top;\n",
       "    }\n",
       "\n",
       "    .dataframe thead th {\n",
       "        text-align: right;\n",
       "    }\n",
       "</style>\n",
       "<table border=\"1\" class=\"dataframe\">\n",
       "  <thead>\n",
       "    <tr style=\"text-align: right;\">\n",
       "      <th></th>\n",
       "      <th>0</th>\n",
       "      <th>1</th>\n",
       "      <th>2</th>\n",
       "    </tr>\n",
       "  </thead>\n",
       "  <tbody>\n",
       "    <tr>\n",
       "      <th>0</th>\n",
       "      <td>695173.5</td>\n",
       "      <td>5537437.5</td>\n",
       "      <td>50.61</td>\n",
       "    </tr>\n",
       "    <tr>\n",
       "      <th>1</th>\n",
       "      <td>695173.5</td>\n",
       "      <td>5537438.5</td>\n",
       "      <td>50.54</td>\n",
       "    </tr>\n",
       "    <tr>\n",
       "      <th>2</th>\n",
       "      <td>695173.5</td>\n",
       "      <td>5537439.5</td>\n",
       "      <td>50.74</td>\n",
       "    </tr>\n",
       "    <tr>\n",
       "      <th>3</th>\n",
       "      <td>695173.5</td>\n",
       "      <td>5537440.5</td>\n",
       "      <td>50.57</td>\n",
       "    </tr>\n",
       "    <tr>\n",
       "      <th>4</th>\n",
       "      <td>695173.5</td>\n",
       "      <td>5537441.5</td>\n",
       "      <td>50.37</td>\n",
       "    </tr>\n",
       "  </tbody>\n",
       "</table>\n",
       "</div>"
      ],
      "text/plain": [
       "          0          1      2\n",
       "0  695173.5  5537437.5  50.61\n",
       "1  695173.5  5537438.5  50.54\n",
       "2  695173.5  5537439.5  50.74\n",
       "3  695173.5  5537440.5  50.57\n",
       "4  695173.5  5537441.5  50.37"
      ]
     },
     "execution_count": 22,
     "metadata": {},
     "output_type": "execute_result"
    }
   ],
   "source": [
    "d2.head()"
   ]
  },
  {
   "cell_type": "markdown",
   "metadata": {},
   "source": [
    "ELIMINATING NOISE DATA FROM THE DATA BY MARKING THE NOISE AS 'None'"
   ]
  },
  {
   "cell_type": "code",
   "execution_count": 23,
   "metadata": {},
   "outputs": [],
   "source": [
    "d2[d2<0]=None"
   ]
  },
  {
   "cell_type": "markdown",
   "metadata": {},
   "source": [
    "DROPING THE NONE ROWS"
   ]
  },
  {
   "cell_type": "code",
   "execution_count": 24,
   "metadata": {},
   "outputs": [],
   "source": [
    "d2=d2.dropna()"
   ]
  },
  {
   "cell_type": "markdown",
   "metadata": {},
   "source": [
    "APPLYING THE SYSTAMATIC CORRECTION TO THE EASTING AND NORTHING IN TERMS OF ETRS89"
   ]
  },
  {
   "cell_type": "code",
   "execution_count": 25,
   "metadata": {},
   "outputs": [
    {
     "data": {
      "text/html": [
       "<div>\n",
       "<style scoped>\n",
       "    .dataframe tbody tr th:only-of-type {\n",
       "        vertical-align: middle;\n",
       "    }\n",
       "\n",
       "    .dataframe tbody tr th {\n",
       "        vertical-align: top;\n",
       "    }\n",
       "\n",
       "    .dataframe thead th {\n",
       "        text-align: right;\n",
       "    }\n",
       "</style>\n",
       "<table border=\"1\" class=\"dataframe\">\n",
       "  <thead>\n",
       "    <tr style=\"text-align: right;\">\n",
       "      <th></th>\n",
       "      <th>0</th>\n",
       "      <th>1</th>\n",
       "      <th>2</th>\n",
       "      <th>E</th>\n",
       "      <th>N</th>\n",
       "      <th>CD</th>\n",
       "    </tr>\n",
       "  </thead>\n",
       "  <tbody>\n",
       "    <tr>\n",
       "      <th>0</th>\n",
       "      <td>695173.5</td>\n",
       "      <td>5537437.5</td>\n",
       "      <td>50.61</td>\n",
       "      <td>695173.52</td>\n",
       "      <td>5537436.84</td>\n",
       "      <td>4.000000e-02</td>\n",
       "    </tr>\n",
       "    <tr>\n",
       "      <th>1</th>\n",
       "      <td>695173.5</td>\n",
       "      <td>5537438.5</td>\n",
       "      <td>50.54</td>\n",
       "      <td>695173.52</td>\n",
       "      <td>5537437.84</td>\n",
       "      <td>-3.000000e-02</td>\n",
       "    </tr>\n",
       "    <tr>\n",
       "      <th>2</th>\n",
       "      <td>695173.5</td>\n",
       "      <td>5537439.5</td>\n",
       "      <td>50.74</td>\n",
       "      <td>695173.52</td>\n",
       "      <td>5537438.84</td>\n",
       "      <td>1.700000e-01</td>\n",
       "    </tr>\n",
       "    <tr>\n",
       "      <th>3</th>\n",
       "      <td>695173.5</td>\n",
       "      <td>5537440.5</td>\n",
       "      <td>50.57</td>\n",
       "      <td>695173.52</td>\n",
       "      <td>5537439.84</td>\n",
       "      <td>3.552714e-15</td>\n",
       "    </tr>\n",
       "    <tr>\n",
       "      <th>4</th>\n",
       "      <td>695173.5</td>\n",
       "      <td>5537441.5</td>\n",
       "      <td>50.37</td>\n",
       "      <td>695173.52</td>\n",
       "      <td>5537440.84</td>\n",
       "      <td>-2.000000e-01</td>\n",
       "    </tr>\n",
       "  </tbody>\n",
       "</table>\n",
       "</div>"
      ],
      "text/plain": [
       "          0          1      2          E           N            CD\n",
       "0  695173.5  5537437.5  50.61  695173.52  5537436.84  4.000000e-02\n",
       "1  695173.5  5537438.5  50.54  695173.52  5537437.84 -3.000000e-02\n",
       "2  695173.5  5537439.5  50.74  695173.52  5537438.84  1.700000e-01\n",
       "3  695173.5  5537440.5  50.57  695173.52  5537439.84  3.552714e-15\n",
       "4  695173.5  5537441.5  50.37  695173.52  5537440.84 -2.000000e-01"
      ]
     },
     "execution_count": 25,
     "metadata": {},
     "output_type": "execute_result"
    }
   ],
   "source": [
    "d2['E']=d2[0]+0.02\n",
    "d2['N']=d2[1]-0.66\n",
    "d2['CD']=d2[2]-53.48+2.91\n",
    "d2.head()\n"
   ]
  },
  {
   "cell_type": "markdown",
   "metadata": {},
   "source": [
    "DROPPING THE COLUMNS FOR FORMATTING PURPOSE"
   ]
  },
  {
   "cell_type": "code",
   "execution_count": 26,
   "metadata": {},
   "outputs": [
    {
     "data": {
      "text/html": [
       "<div>\n",
       "<style scoped>\n",
       "    .dataframe tbody tr th:only-of-type {\n",
       "        vertical-align: middle;\n",
       "    }\n",
       "\n",
       "    .dataframe tbody tr th {\n",
       "        vertical-align: top;\n",
       "    }\n",
       "\n",
       "    .dataframe thead th {\n",
       "        text-align: right;\n",
       "    }\n",
       "</style>\n",
       "<table border=\"1\" class=\"dataframe\">\n",
       "  <thead>\n",
       "    <tr style=\"text-align: right;\">\n",
       "      <th></th>\n",
       "      <th>E</th>\n",
       "      <th>N</th>\n",
       "      <th>CD</th>\n",
       "    </tr>\n",
       "  </thead>\n",
       "  <tbody>\n",
       "    <tr>\n",
       "      <th>0</th>\n",
       "      <td>695173.52</td>\n",
       "      <td>5537436.84</td>\n",
       "      <td>4.000000e-02</td>\n",
       "    </tr>\n",
       "    <tr>\n",
       "      <th>1</th>\n",
       "      <td>695173.52</td>\n",
       "      <td>5537437.84</td>\n",
       "      <td>-3.000000e-02</td>\n",
       "    </tr>\n",
       "    <tr>\n",
       "      <th>2</th>\n",
       "      <td>695173.52</td>\n",
       "      <td>5537438.84</td>\n",
       "      <td>1.700000e-01</td>\n",
       "    </tr>\n",
       "    <tr>\n",
       "      <th>3</th>\n",
       "      <td>695173.52</td>\n",
       "      <td>5537439.84</td>\n",
       "      <td>3.552714e-15</td>\n",
       "    </tr>\n",
       "    <tr>\n",
       "      <th>4</th>\n",
       "      <td>695173.52</td>\n",
       "      <td>5537440.84</td>\n",
       "      <td>-2.000000e-01</td>\n",
       "    </tr>\n",
       "  </tbody>\n",
       "</table>\n",
       "</div>"
      ],
      "text/plain": [
       "           E           N            CD\n",
       "0  695173.52  5537436.84  4.000000e-02\n",
       "1  695173.52  5537437.84 -3.000000e-02\n",
       "2  695173.52  5537438.84  1.700000e-01\n",
       "3  695173.52  5537439.84  3.552714e-15\n",
       "4  695173.52  5537440.84 -2.000000e-01"
      ]
     },
     "execution_count": 26,
     "metadata": {},
     "output_type": "execute_result"
    }
   ],
   "source": [
    "d2=d2.drop(columns=[0,1,2])\n",
    "d2.head()"
   ]
  },
  {
   "cell_type": "code",
   "execution_count": 29,
   "metadata": {},
   "outputs": [],
   "source": [
    "d2.to_csv('usv_correct_waterdata.csv',index=False)\n",
    "d2.to_csv('usv_correct_waterdata.txt',index=False)"
   ]
  }
 ],
 "metadata": {
  "interpreter": {
   "hash": "62fe7956c16287f820694899119c04bfe79819e9a240122b4bcfa1c712f9c34a"
  },
  "kernelspec": {
   "display_name": "Python 3.9.12 ('base')",
   "language": "python",
   "name": "python3"
  },
  "language_info": {
   "codemirror_mode": {
    "name": "ipython",
    "version": 3
   },
   "file_extension": ".py",
   "mimetype": "text/x-python",
   "name": "python",
   "nbconvert_exporter": "python",
   "pygments_lexer": "ipython3",
   "version": "3.9.12"
  },
  "orig_nbformat": 4
 },
 "nbformat": 4,
 "nbformat_minor": 2
}
