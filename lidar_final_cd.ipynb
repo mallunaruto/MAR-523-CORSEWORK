{
 "cells": [
  {
   "cell_type": "code",
   "execution_count": 1,
   "metadata": {},
   "outputs": [],
   "source": [
    "import numpy as np\n",
    "import pandas as pd"
   ]
  },
  {
   "cell_type": "code",
   "execution_count": 2,
   "metadata": {},
   "outputs": [
    {
     "data": {
      "text/html": [
       "<div>\n",
       "<style scoped>\n",
       "    .dataframe tbody tr th:only-of-type {\n",
       "        vertical-align: middle;\n",
       "    }\n",
       "\n",
       "    .dataframe tbody tr th {\n",
       "        vertical-align: top;\n",
       "    }\n",
       "\n",
       "    .dataframe thead th {\n",
       "        text-align: right;\n",
       "    }\n",
       "</style>\n",
       "<table border=\"1\" class=\"dataframe\">\n",
       "  <thead>\n",
       "    <tr style=\"text-align: right;\">\n",
       "      <th></th>\n",
       "      <th>Name</th>\n",
       "      <th>Height</th>\n",
       "      <th>OSGB36-East</th>\n",
       "      <th>OSGB36-North</th>\n",
       "      <th>UTM29N-East</th>\n",
       "      <th>UTM29N-North</th>\n",
       "    </tr>\n",
       "  </thead>\n",
       "  <tbody>\n",
       "    <tr>\n",
       "      <th>0</th>\n",
       "      <td>0</td>\n",
       "      <td>-5.71</td>\n",
       "      <td>91995.51</td>\n",
       "      <td>13995.50</td>\n",
       "      <td>694067.63</td>\n",
       "      <td>5536193.53</td>\n",
       "    </tr>\n",
       "    <tr>\n",
       "      <th>1</th>\n",
       "      <td>1</td>\n",
       "      <td>-5.71</td>\n",
       "      <td>91996.51</td>\n",
       "      <td>13995.50</td>\n",
       "      <td>694068.63</td>\n",
       "      <td>5536193.63</td>\n",
       "    </tr>\n",
       "    <tr>\n",
       "      <th>2</th>\n",
       "      <td>2</td>\n",
       "      <td>-5.73</td>\n",
       "      <td>91997.51</td>\n",
       "      <td>13995.50</td>\n",
       "      <td>694069.62</td>\n",
       "      <td>5536193.72</td>\n",
       "    </tr>\n",
       "    <tr>\n",
       "      <th>3</th>\n",
       "      <td>3</td>\n",
       "      <td>-5.74</td>\n",
       "      <td>91998.51</td>\n",
       "      <td>13995.50</td>\n",
       "      <td>694070.62</td>\n",
       "      <td>5536193.81</td>\n",
       "    </tr>\n",
       "    <tr>\n",
       "      <th>4</th>\n",
       "      <td>4</td>\n",
       "      <td>-5.74</td>\n",
       "      <td>91999.51</td>\n",
       "      <td>13995.51</td>\n",
       "      <td>694071.61</td>\n",
       "      <td>5536193.92</td>\n",
       "    </tr>\n",
       "  </tbody>\n",
       "</table>\n",
       "</div>"
      ],
      "text/plain": [
       "   Name  Height  OSGB36-East  OSGB36-North  UTM29N-East  UTM29N-North\n",
       "0     0   -5.71     91995.51      13995.50    694067.63    5536193.53\n",
       "1     1   -5.71     91996.51      13995.50    694068.63    5536193.63\n",
       "2     2   -5.73     91997.51      13995.50    694069.62    5536193.72\n",
       "3     3   -5.74     91998.51      13995.50    694070.62    5536193.81\n",
       "4     4   -5.74     91999.51      13995.51    694071.61    5536193.92"
      ]
     },
     "execution_count": 2,
     "metadata": {},
     "output_type": "execute_result"
    }
   ],
   "source": [
    "df=pd.read_csv('lidar_etrs89.csv',delimiter=',')\n",
    "df.head()"
   ]
  },
  {
   "cell_type": "code",
   "execution_count": 3,
   "metadata": {},
   "outputs": [
    {
     "data": {
      "text/html": [
       "<div>\n",
       "<style scoped>\n",
       "    .dataframe tbody tr th:only-of-type {\n",
       "        vertical-align: middle;\n",
       "    }\n",
       "\n",
       "    .dataframe tbody tr th {\n",
       "        vertical-align: top;\n",
       "    }\n",
       "\n",
       "    .dataframe thead th {\n",
       "        text-align: right;\n",
       "    }\n",
       "</style>\n",
       "<table border=\"1\" class=\"dataframe\">\n",
       "  <thead>\n",
       "    <tr style=\"text-align: right;\">\n",
       "      <th></th>\n",
       "      <th>Height</th>\n",
       "      <th>UTM29N-East</th>\n",
       "      <th>UTM29N-North</th>\n",
       "    </tr>\n",
       "  </thead>\n",
       "  <tbody>\n",
       "    <tr>\n",
       "      <th>0</th>\n",
       "      <td>-5.71</td>\n",
       "      <td>694067.63</td>\n",
       "      <td>5536193.53</td>\n",
       "    </tr>\n",
       "    <tr>\n",
       "      <th>1</th>\n",
       "      <td>-5.71</td>\n",
       "      <td>694068.63</td>\n",
       "      <td>5536193.63</td>\n",
       "    </tr>\n",
       "    <tr>\n",
       "      <th>2</th>\n",
       "      <td>-5.73</td>\n",
       "      <td>694069.62</td>\n",
       "      <td>5536193.72</td>\n",
       "    </tr>\n",
       "    <tr>\n",
       "      <th>3</th>\n",
       "      <td>-5.74</td>\n",
       "      <td>694070.62</td>\n",
       "      <td>5536193.81</td>\n",
       "    </tr>\n",
       "    <tr>\n",
       "      <th>4</th>\n",
       "      <td>-5.74</td>\n",
       "      <td>694071.61</td>\n",
       "      <td>5536193.92</td>\n",
       "    </tr>\n",
       "  </tbody>\n",
       "</table>\n",
       "</div>"
      ],
      "text/plain": [
       "   Height  UTM29N-East  UTM29N-North\n",
       "0   -5.71    694067.63    5536193.53\n",
       "1   -5.71    694068.63    5536193.63\n",
       "2   -5.73    694069.62    5536193.72\n",
       "3   -5.74    694070.62    5536193.81\n",
       "4   -5.74    694071.61    5536193.92"
      ]
     },
     "execution_count": 3,
     "metadata": {},
     "output_type": "execute_result"
    }
   ],
   "source": [
    "df=df.drop(columns=['Name','OSGB36-East','OSGB36-North'])\n",
    "df.head()"
   ]
  },
  {
   "cell_type": "code",
   "execution_count": 4,
   "metadata": {},
   "outputs": [],
   "source": [
    "df=df.rename(columns={'UTM29N-East':'E','UTM29N-North':'N'})"
   ]
  },
  {
   "cell_type": "code",
   "execution_count": 5,
   "metadata": {},
   "outputs": [
    {
     "name": "stdout",
     "output_type": "stream",
     "text": [
      "          Height          E           N\n",
      "0          -5.71  694067.63  5536193.53\n",
      "1          -5.71  694068.63  5536193.63\n",
      "2          -5.73  694069.62  5536193.72\n",
      "3          -5.74  694070.62  5536193.81\n",
      "4          -5.74  694071.61  5536193.92\n",
      "...          ...        ...         ...\n",
      "5963035 -9999.00  696714.58  5538458.35\n",
      "5963036 -9999.00  696715.58  5538458.44\n",
      "5963037 -9999.00  696716.57  5538458.53\n",
      "5963038 -9999.00  696717.57  5538458.63\n",
      "5963039 -9999.00  696718.56  5538458.72\n",
      "\n",
      "[5963040 rows x 3 columns]\n"
     ]
    }
   ],
   "source": [
    "print(df)"
   ]
  },
  {
   "cell_type": "code",
   "execution_count": 6,
   "metadata": {},
   "outputs": [
    {
     "name": "stdout",
     "output_type": "stream",
     "text": [
      "         Height          E           N\n",
      "0         -5.71  694067.63  5536193.53\n",
      "1         -5.71  694068.63  5536193.63\n",
      "2         -5.73  694069.62  5536193.72\n",
      "3         -5.74  694070.62  5536193.81\n",
      "4         -5.74  694071.61  5536193.92\n",
      "...         ...        ...         ...\n",
      "5963035     NaN  696714.58  5538458.35\n",
      "5963036     NaN  696715.58  5538458.44\n",
      "5963037     NaN  696716.57  5538458.53\n",
      "5963038     NaN  696717.57  5538458.63\n",
      "5963039     NaN  696718.56  5538458.72\n",
      "\n",
      "[5963040 rows x 3 columns]\n"
     ]
    }
   ],
   "source": [
    "df[df==-9999]=None\n",
    "print(df)"
   ]
  },
  {
   "cell_type": "code",
   "execution_count": 9,
   "metadata": {},
   "outputs": [],
   "source": [
    "df=df.dropna()"
   ]
  },
  {
   "cell_type": "code",
   "execution_count": 10,
   "metadata": {},
   "outputs": [
    {
     "name": "stdout",
     "output_type": "stream",
     "text": [
      "         Height          E           N\n",
      "0         -5.71  694067.63  5536193.53\n",
      "1         -5.71  694068.63  5536193.63\n",
      "2         -5.73  694069.62  5536193.72\n",
      "3         -5.74  694070.62  5536193.81\n",
      "4         -5.74  694071.61  5536193.92\n",
      "...         ...        ...         ...\n",
      "5962668   -4.27  696349.44  5538424.07\n",
      "5962669   -4.24  696350.44  5538424.17\n",
      "5962670   -4.21  696351.43  5538424.26\n",
      "5962671   -4.18  696352.43  5538424.35\n",
      "5962672   -4.16  696353.42  5538424.45\n",
      "\n",
      "[5692680 rows x 3 columns]\n"
     ]
    }
   ],
   "source": [
    "print(df)"
   ]
  },
  {
   "cell_type": "code",
   "execution_count": 11,
   "metadata": {},
   "outputs": [
    {
     "data": {
      "text/html": [
       "<div>\n",
       "<style scoped>\n",
       "    .dataframe tbody tr th:only-of-type {\n",
       "        vertical-align: middle;\n",
       "    }\n",
       "\n",
       "    .dataframe tbody tr th {\n",
       "        vertical-align: top;\n",
       "    }\n",
       "\n",
       "    .dataframe thead th {\n",
       "        text-align: right;\n",
       "    }\n",
       "</style>\n",
       "<table border=\"1\" class=\"dataframe\">\n",
       "  <thead>\n",
       "    <tr style=\"text-align: right;\">\n",
       "      <th></th>\n",
       "      <th>Height</th>\n",
       "      <th>E</th>\n",
       "      <th>N</th>\n",
       "      <th>CD</th>\n",
       "    </tr>\n",
       "  </thead>\n",
       "  <tbody>\n",
       "    <tr>\n",
       "      <th>0</th>\n",
       "      <td>-5.71</td>\n",
       "      <td>694067.63</td>\n",
       "      <td>5536193.53</td>\n",
       "      <td>-2.80</td>\n",
       "    </tr>\n",
       "    <tr>\n",
       "      <th>1</th>\n",
       "      <td>-5.71</td>\n",
       "      <td>694068.63</td>\n",
       "      <td>5536193.63</td>\n",
       "      <td>-2.80</td>\n",
       "    </tr>\n",
       "    <tr>\n",
       "      <th>2</th>\n",
       "      <td>-5.73</td>\n",
       "      <td>694069.62</td>\n",
       "      <td>5536193.72</td>\n",
       "      <td>-2.82</td>\n",
       "    </tr>\n",
       "    <tr>\n",
       "      <th>3</th>\n",
       "      <td>-5.74</td>\n",
       "      <td>694070.62</td>\n",
       "      <td>5536193.81</td>\n",
       "      <td>-2.83</td>\n",
       "    </tr>\n",
       "    <tr>\n",
       "      <th>4</th>\n",
       "      <td>-5.74</td>\n",
       "      <td>694071.61</td>\n",
       "      <td>5536193.92</td>\n",
       "      <td>-2.83</td>\n",
       "    </tr>\n",
       "  </tbody>\n",
       "</table>\n",
       "</div>"
      ],
      "text/plain": [
       "   Height          E           N    CD\n",
       "0   -5.71  694067.63  5536193.53 -2.80\n",
       "1   -5.71  694068.63  5536193.63 -2.80\n",
       "2   -5.73  694069.62  5536193.72 -2.82\n",
       "3   -5.74  694070.62  5536193.81 -2.83\n",
       "4   -5.74  694071.61  5536193.92 -2.83"
      ]
     },
     "execution_count": 11,
     "metadata": {},
     "output_type": "execute_result"
    }
   ],
   "source": [
    "df['CD']=df['Height']+2.91\n",
    "df.head()"
   ]
  },
  {
   "cell_type": "code",
   "execution_count": 12,
   "metadata": {},
   "outputs": [
    {
     "data": {
      "text/html": [
       "<div>\n",
       "<style scoped>\n",
       "    .dataframe tbody tr th:only-of-type {\n",
       "        vertical-align: middle;\n",
       "    }\n",
       "\n",
       "    .dataframe tbody tr th {\n",
       "        vertical-align: top;\n",
       "    }\n",
       "\n",
       "    .dataframe thead th {\n",
       "        text-align: right;\n",
       "    }\n",
       "</style>\n",
       "<table border=\"1\" class=\"dataframe\">\n",
       "  <thead>\n",
       "    <tr style=\"text-align: right;\">\n",
       "      <th></th>\n",
       "      <th>E</th>\n",
       "      <th>N</th>\n",
       "      <th>CD</th>\n",
       "    </tr>\n",
       "  </thead>\n",
       "  <tbody>\n",
       "    <tr>\n",
       "      <th>0</th>\n",
       "      <td>694067.63</td>\n",
       "      <td>5536193.53</td>\n",
       "      <td>-2.80</td>\n",
       "    </tr>\n",
       "    <tr>\n",
       "      <th>1</th>\n",
       "      <td>694068.63</td>\n",
       "      <td>5536193.63</td>\n",
       "      <td>-2.80</td>\n",
       "    </tr>\n",
       "    <tr>\n",
       "      <th>2</th>\n",
       "      <td>694069.62</td>\n",
       "      <td>5536193.72</td>\n",
       "      <td>-2.82</td>\n",
       "    </tr>\n",
       "    <tr>\n",
       "      <th>3</th>\n",
       "      <td>694070.62</td>\n",
       "      <td>5536193.81</td>\n",
       "      <td>-2.83</td>\n",
       "    </tr>\n",
       "    <tr>\n",
       "      <th>4</th>\n",
       "      <td>694071.61</td>\n",
       "      <td>5536193.92</td>\n",
       "      <td>-2.83</td>\n",
       "    </tr>\n",
       "  </tbody>\n",
       "</table>\n",
       "</div>"
      ],
      "text/plain": [
       "           E           N    CD\n",
       "0  694067.63  5536193.53 -2.80\n",
       "1  694068.63  5536193.63 -2.80\n",
       "2  694069.62  5536193.72 -2.82\n",
       "3  694070.62  5536193.81 -2.83\n",
       "4  694071.61  5536193.92 -2.83"
      ]
     },
     "execution_count": 12,
     "metadata": {},
     "output_type": "execute_result"
    }
   ],
   "source": [
    "df=df.drop(columns='Height')\n",
    "df.head()"
   ]
  },
  {
   "cell_type": "code",
   "execution_count": 13,
   "metadata": {},
   "outputs": [],
   "source": [
    "df.to_csv('LIDAR ETRS89_CD.csv',index=False)\n",
    "df.to_csv('LIDAR ETRS89_CD.txt',index=False)"
   ]
  }
 ],
 "metadata": {
  "interpreter": {
   "hash": "62fe7956c16287f820694899119c04bfe79819e9a240122b4bcfa1c712f9c34a"
  },
  "kernelspec": {
   "display_name": "Python 3.9.12 ('base')",
   "language": "python",
   "name": "python3"
  },
  "language_info": {
   "codemirror_mode": {
    "name": "ipython",
    "version": 3
   },
   "file_extension": ".py",
   "mimetype": "text/x-python",
   "name": "python",
   "nbconvert_exporter": "python",
   "pygments_lexer": "ipython3",
   "version": "3.9.12"
  },
  "orig_nbformat": 4
 },
 "nbformat": 4,
 "nbformat_minor": 2
}
