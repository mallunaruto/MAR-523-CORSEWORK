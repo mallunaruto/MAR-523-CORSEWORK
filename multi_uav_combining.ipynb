{
 "cells": [
  {
   "cell_type": "code",
   "execution_count": 7,
   "metadata": {},
   "outputs": [],
   "source": [
    "import pandas as pd"
   ]
  },
  {
   "cell_type": "code",
   "execution_count": 8,
   "metadata": {},
   "outputs": [],
   "source": [
    "d1=pd.read_csv('multifinal_chartdatum_ETRS89.csv')"
   ]
  },
  {
   "cell_type": "code",
   "execution_count": 9,
   "metadata": {},
   "outputs": [],
   "source": [
    "d2=pd.read_csv('final_uav_combined.csv')"
   ]
  },
  {
   "cell_type": "code",
   "execution_count": 11,
   "metadata": {},
   "outputs": [
    {
     "data": {
      "text/html": [
       "<div>\n",
       "<style scoped>\n",
       "    .dataframe tbody tr th:only-of-type {\n",
       "        vertical-align: middle;\n",
       "    }\n",
       "\n",
       "    .dataframe tbody tr th {\n",
       "        vertical-align: top;\n",
       "    }\n",
       "\n",
       "    .dataframe thead th {\n",
       "        text-align: right;\n",
       "    }\n",
       "</style>\n",
       "<table border=\"1\" class=\"dataframe\">\n",
       "  <thead>\n",
       "    <tr style=\"text-align: right;\">\n",
       "      <th></th>\n",
       "      <th>E</th>\n",
       "      <th>N</th>\n",
       "      <th>CD</th>\n",
       "    </tr>\n",
       "  </thead>\n",
       "  <tbody>\n",
       "    <tr>\n",
       "      <th>0</th>\n",
       "      <td>695400.02</td>\n",
       "      <td>5537654.34</td>\n",
       "      <td>2.297879</td>\n",
       "    </tr>\n",
       "    <tr>\n",
       "      <th>1</th>\n",
       "      <td>695401.02</td>\n",
       "      <td>5537654.34</td>\n",
       "      <td>2.296145</td>\n",
       "    </tr>\n",
       "    <tr>\n",
       "      <th>2</th>\n",
       "      <td>695402.02</td>\n",
       "      <td>5537654.34</td>\n",
       "      <td>2.286431</td>\n",
       "    </tr>\n",
       "    <tr>\n",
       "      <th>3</th>\n",
       "      <td>695403.02</td>\n",
       "      <td>5537654.34</td>\n",
       "      <td>2.276891</td>\n",
       "    </tr>\n",
       "    <tr>\n",
       "      <th>4</th>\n",
       "      <td>695404.02</td>\n",
       "      <td>5537654.34</td>\n",
       "      <td>2.275504</td>\n",
       "    </tr>\n",
       "    <tr>\n",
       "      <th>...</th>\n",
       "      <td>...</td>\n",
       "      <td>...</td>\n",
       "      <td>...</td>\n",
       "    </tr>\n",
       "    <tr>\n",
       "      <th>425139</th>\n",
       "      <td>695400.52</td>\n",
       "      <td>5537618.84</td>\n",
       "      <td>0.670000</td>\n",
       "    </tr>\n",
       "    <tr>\n",
       "      <th>425140</th>\n",
       "      <td>695401.52</td>\n",
       "      <td>5537618.84</td>\n",
       "      <td>0.670000</td>\n",
       "    </tr>\n",
       "    <tr>\n",
       "      <th>425141</th>\n",
       "      <td>695402.52</td>\n",
       "      <td>5537618.84</td>\n",
       "      <td>0.670000</td>\n",
       "    </tr>\n",
       "    <tr>\n",
       "      <th>425142</th>\n",
       "      <td>695403.52</td>\n",
       "      <td>5537618.84</td>\n",
       "      <td>0.660000</td>\n",
       "    </tr>\n",
       "    <tr>\n",
       "      <th>425143</th>\n",
       "      <td>695404.52</td>\n",
       "      <td>5537618.84</td>\n",
       "      <td>0.670000</td>\n",
       "    </tr>\n",
       "  </tbody>\n",
       "</table>\n",
       "<p>425144 rows × 3 columns</p>\n",
       "</div>"
      ],
      "text/plain": [
       "                E           N        CD\n",
       "0       695400.02  5537654.34  2.297879\n",
       "1       695401.02  5537654.34  2.296145\n",
       "2       695402.02  5537654.34  2.286431\n",
       "3       695403.02  5537654.34  2.276891\n",
       "4       695404.02  5537654.34  2.275504\n",
       "...           ...         ...       ...\n",
       "425139  695400.52  5537618.84  0.670000\n",
       "425140  695401.52  5537618.84  0.670000\n",
       "425141  695402.52  5537618.84  0.670000\n",
       "425142  695403.52  5537618.84  0.660000\n",
       "425143  695404.52  5537618.84  0.670000\n",
       "\n",
       "[425144 rows x 3 columns]"
      ]
     },
     "execution_count": 11,
     "metadata": {},
     "output_type": "execute_result"
    }
   ],
   "source": [
    "d3=pd.concat([d1,d2],ignore_index=True)\n",
    "d3"
   ]
  },
  {
   "cell_type": "code",
   "execution_count": 13,
   "metadata": {},
   "outputs": [],
   "source": [
    "d3.to_csv('multi_uav.csv',index=False)\n",
    "d3.to_csv('multi_uav.txt',index=False)"
   ]
  },
  {
   "cell_type": "code",
   "execution_count": null,
   "metadata": {},
   "outputs": [],
   "source": []
  }
 ],
 "metadata": {
  "interpreter": {
   "hash": "62fe7956c16287f820694899119c04bfe79819e9a240122b4bcfa1c712f9c34a"
  },
  "kernelspec": {
   "display_name": "Python 3.9.12 ('base')",
   "language": "python",
   "name": "python3"
  },
  "language_info": {
   "codemirror_mode": {
    "name": "ipython",
    "version": 3
   },
   "file_extension": ".py",
   "mimetype": "text/x-python",
   "name": "python",
   "nbconvert_exporter": "python",
   "pygments_lexer": "ipython3",
   "version": "3.9.12"
  },
  "orig_nbformat": 4
 },
 "nbformat": 4,
 "nbformat_minor": 2
}
